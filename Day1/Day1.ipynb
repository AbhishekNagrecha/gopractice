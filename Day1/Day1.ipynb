{
 "cells": [
  {
   "cell_type": "code",
   "execution_count": 6,
   "metadata": {},
   "outputs": [],
   "source": [
    "#Remove Duplicates from Sorted Array\n",
    "class Solution:\n",
    "    def removeDuplicates(self, nums):\n",
    "        \"\"\"\n",
    "        :type nums: List[int]\n",
    "        :rtype: int\n",
    "        \"\"\"\n",
    "        nums[:] = list(set(nums))\n",
    "        nums.sort()\n",
    "        return len(nums)"
   ]
  },
  {
   "cell_type": "markdown",
   "metadata": {},
   "source": [
    "# Implement an algorithm to determine if a string has all unique characters"
   ]
  },
  {
   "cell_type": "code",
   "execution_count": null,
   "metadata": {},
   "outputs": [],
   "source": [
    "class uniquecharset(object):\n",
    "    def has_unique_chars(self,string):\n",
    "        if string is None:\n",
    "            return false\n",
    "        else\n",
    "        return len(set(string)) == len(string)"
   ]
  },
  {
   "cell_type": "code",
   "execution_count": null,
   "metadata": {},
   "outputs": [],
   "source": [
    "#Code: Hash Map Lookup\n",
    "class uniquecharset(object):\n",
    "    def has_unique_char(self,string):\n",
    "        if string is None:\n",
    "            return False\n",
    "        char_set = set()\n",
    "        for char in string:\n",
    "            if char in char_set:\n",
    "                return False\n",
    "            else:\n",
    "                char_set.add(char)\n",
    "        return True        \n",
    "    \n",
    "    "
   ]
  },
  {
   "cell_type": "code",
   "execution_count": null,
   "metadata": {},
   "outputs": [],
   "source": [
    "# Code: In-Place\n",
    "\n",
    "class uniquecharinplace(object):\n",
    "    def has_unique_char(self,string):\n",
    "        if string is None:\n",
    "            return False\n",
    "        for char in string:\n",
    "            if string.count(char) > 1\n",
    "            return False\n",
    "        return True"
   ]
  },
  {
   "cell_type": "markdown",
   "metadata": {},
   "source": [
    "# Problem: Determine if a string is a permutation of another string"
   ]
  },
  {
   "cell_type": "code",
   "execution_count": null,
   "metadata": {},
   "outputs": [],
   "source": [
    "class Permutations(object):\n",
    "    def is_a_permutation(self, str1, str2):\n",
    "        if str1 is None or srt2 is None:\n",
    "            return False\n",
    "        return sorted(str1) == sorted(str2)"
   ]
  },
  {
   "cell_type": "code",
   "execution_count": null,
   "metadata": {},
   "outputs": [],
   "source": [
    "# Code: Hash Map Lookup\n",
    "\n",
    "from collections import defaultdict\n",
    "\n",
    "class Permutations(object):\n",
    "    def is_a_permutation(self,str1,str2):\n",
    "        if str1 is None or str2 is None:\n",
    "            return False\n",
    "        if len(str1) != len(str2)\n",
    "        return False\n",
    "        unique_counts1 = defaultdict(int)\n",
    "        unique_counts2 = defaultdict(int)\n",
    "        for char in srt1:\n",
    "            unique_counts1[char] += 1\n",
    "        for char in str2:\n",
    "            unique_counts2[char] += 1\n",
    "            \n",
    "        return unique_counts1 == unique_counts2"
   ]
  },
  {
   "cell_type": "markdown",
   "metadata": {},
   "source": [
    "# Problem: Determine if a string s1 is a rotation of another string s2, by calling (only once) a function is_substring"
   ]
  },
  {
   "cell_type": "code",
   "execution_count": null,
   "metadata": {},
   "outputs": [],
   "source": [
    "class Rotation(object):\n",
    "    def is_substring(self, str1, str2):\n",
    "        return str1 in str2\n",
    "    def is_rotation(self, str1, str2)\n",
    "        if str1 is None or str2 is None:\n",
    "        return False\n",
    "        if len(str1) != len(str2):\n",
    "            return False\n",
    "        return self.is_substring(str1, str2 + str2)"
   ]
  },
  {
   "cell_type": "markdown",
   "metadata": {},
   "source": [
    "# Problem: Compress a string such that 'AAABCCDDDD' becomes 'A3BC2D4'. Only compress the string if it saves space"
   ]
  },
  {
   "cell_type": "code",
   "execution_count": null,
   "metadata": {},
   "outputs": [],
   "source": [
    "class compressString(object):\n",
    "    def compress(self, string):\n",
    "        if string is None or not string:\n",
    "            return string\n",
    "        result = ''\n",
    "        previous_char = string[0]\n",
    "        count = 0\n",
    "        for char in string:\n",
    "            if char == previous_char:\n",
    "                count += 1\n",
    "                else:\n",
    "                    result += self._calculate_partial_result(previous_char, count)\n",
    "                    previous_char = char\n",
    "                    count = 1\n",
    "        result += self._calculate_partial_result(previous_char, count)\n",
    "        return result if len(result) < len(string) else string    \n",
    "                    \n",
    "                \n",
    "                \n",
    "    def _calculate_partial_result(self, previous_char, count)\n",
    "        return previous_char + (str(count) if count > 1 else '')"
   ]
  }
 ],
 "metadata": {
  "kernelspec": {
   "display_name": "Python 3",
   "language": "python",
   "name": "python3"
  },
  "language_info": {
   "codemirror_mode": {
    "name": "ipython",
    "version": 3
   },
   "file_extension": ".py",
   "mimetype": "text/x-python",
   "name": "python",
   "nbconvert_exporter": "python",
   "pygments_lexer": "ipython3",
   "version": "3.8.5"
  }
 },
 "nbformat": 4,
 "nbformat_minor": 4
}
